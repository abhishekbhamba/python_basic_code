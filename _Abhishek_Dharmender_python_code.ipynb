{
 "cells": [
  {
   "cell_type": "code",
   "execution_count": 35,
   "id": "19596b1e",
   "metadata": {},
   "outputs": [],
   "source": [
    "import numpy as np"
   ]
  },
  {
   "cell_type": "markdown",
   "id": "37809e76",
   "metadata": {},
   "source": [
    "# Q1 Write functions, along with proper code documentation and formatting;"
   ]
  },
  {
   "cell_type": "markdown",
   "id": "82d90fa9",
   "metadata": {},
   "source": [
    "## (a) To check whether a number is prime or not\n"
   ]
  },
  {
   "cell_type": "code",
   "execution_count": 36,
   "id": "6fc1ceb3",
   "metadata": {},
   "outputs": [
    {
     "name": "stdout",
     "output_type": "stream",
     "text": [
      "True\n",
      "False\n"
     ]
    }
   ],
   "source": [
    "def isprime(num):                       # defining a function isprime\n",
    "    for n in range (2, int(num**0.5)+1):   # using for loop to find prime no.\n",
    "        if num%n == 0:\n",
    "            return False\n",
    "    return True\n",
    "print(isprime(7))\n",
    "print(isprime(8))"
   ]
  },
  {
   "cell_type": "markdown",
   "id": "0d820dd2",
   "metadata": {},
   "source": [
    "## (b) To find the longest word in a sentence given as input by the user"
   ]
  },
  {
   "cell_type": "code",
   "execution_count": 37,
   "id": "6b7df022",
   "metadata": {},
   "outputs": [
    {
     "name": "stdout",
     "output_type": "stream",
     "text": [
      "Enter sentences:   abhishek\n",
      "Longest word is:   abhishek\n",
      "And its length is   8\n"
     ]
    }
   ],
   "source": [
    "# longest word\n",
    "sentence = input(\"Enter sentences:   \")    # reading sentences from users\n",
    "\n",
    "# finding longest word\n",
    "longest = max(sentence.split(), key=len)\n",
    "\n",
    "# display longest word\n",
    "print(\"Longest word is:  \", longest)\n",
    "print(\"And its length is  \", len(longest))"
   ]
  },
  {
   "cell_type": "markdown",
   "id": "10706b20",
   "metadata": {},
   "source": [
    "## (c)  To find how many times a given user-inputted substring is repeated in another user inputted string"
   ]
  },
  {
   "cell_type": "code",
   "execution_count": 23,
   "id": "2bf29ada",
   "metadata": {},
   "outputs": [
    {
     "name": "stdout",
     "output_type": "stream",
     "text": [
      "Result:     ('Q', 'P', 'P', 'T', 'P')\n",
      "Counting how many times is entered by user:   3\n"
     ]
    }
   ],
   "source": [
    "# here i am taken some names of computer game.\n",
    "# defined with short name.\n",
    "\n",
    "game_of_throne = \"Q\"\n",
    "game_of_takken = \"P\"\n",
    "game_of_Cycling = \"P\"\n",
    "game_of_Bike = \"T\"\n",
    "game_of_GTA = \"P\"\n",
    "\n",
    "# checking defined names \n",
    "result = (game_of_throne,game_of_takken,game_of_Cycling,game_of_Bike,game_of_GTA)\n",
    "print(\"Result:    \",result)\n",
    "\n",
    "# counting how many times user or i have entered a same name.\n",
    "print(\"Counting how many times is entered by user:  \",result.count(\"P\"))"
   ]
  },
  {
   "cell_type": "markdown",
   "id": "7a0c6d4d",
   "metadata": {},
   "source": [
    "# Q2 Create the following class with the given attributes and methods"
   ]
  },
  {
   "cell_type": "markdown",
   "id": "5c081160",
   "metadata": {},
   "source": [
    "## (a) Standard -"
   ]
  },
  {
   "cell_type": "markdown",
   "id": "6ef09786",
   "metadata": {},
   "source": [
    "### (i) Attributes: Std name, No of enrolled students, Overall GPA"
   ]
  },
  {
   "cell_type": "code",
   "execution_count": 38,
   "id": "167f2dea",
   "metadata": {},
   "outputs": [
    {
     "name": "stdout",
     "output_type": "stream",
     "text": [
      "Name   abhishek\n",
      "Student enrolled   5\n",
      "GPA   60\n"
     ]
    }
   ],
   "source": [
    "# creating class of student\n",
    "class student(object):\n",
    "    \n",
    "    # attributes\n",
    "    def __init__(self, name, enrolled, GPA):\n",
    "        self.name = name\n",
    "        self.enrolled = enrolled\n",
    "        self.GPA = GPA\n",
    "\n",
    "# filling name, enrolled and gpa\n",
    "p1 = student(\"abhishek\",5,60)        \n",
    "  \n",
    "# printing output\n",
    "print(\"Name  \",p1.name)\n",
    "print(\"Student enrolled  \",p1.enrolled)\n",
    "print(\"GPA  \",p1.GPA)"
   ]
  },
  {
   "cell_type": "markdown",
   "id": "ec2af02c",
   "metadata": {},
   "source": [
    "### (ii) Methods: getStd, getEnrolled, getOGPA"
   ]
  },
  {
   "cell_type": "code",
   "execution_count": 39,
   "id": "0179b0b9",
   "metadata": {},
   "outputs": [
    {
     "name": "stdout",
     "output_type": "stream",
     "text": [
      "Student name is Abhishek\n",
      "Student enrolled  5\n",
      "Overall GDP is  66\n"
     ]
    }
   ],
   "source": [
    "# creating class of student\n",
    "class student(object):\n",
    "    \n",
    "    # attributes\n",
    "    def __init__(self, name, enrolled, GPA):\n",
    "        self.name = name\n",
    "        self.enrolled = enrolled\n",
    "        self.GPA = GPA\n",
    "    \n",
    "    # making method getStd, getEnrolled, getOGPA\n",
    "    def getStd(self):\n",
    "        print(\"Student name is \" + self.name)\n",
    "        \n",
    "    def getEnrolled(self):\n",
    "        print(\"Student enrolled \", self.enrolled)\n",
    "        \n",
    "    def getOGPA(self):\n",
    "        print(\"Overall GDP is \", self.GPA)\n",
    "\n",
    "p1 = student(\"Abhishek\",5, 66)     # attribute info\n",
    "\n",
    "# calling method \n",
    "p1.getStd()\n",
    "p1.getEnrolled()\n",
    "p1.getOGPA()"
   ]
  },
  {
   "cell_type": "markdown",
   "id": "2c00ff67",
   "metadata": {},
   "source": [
    "## (b) Students class with Standard as its super class"
   ]
  },
  {
   "cell_type": "markdown",
   "id": "ff7b07cc",
   "metadata": {},
   "source": [
    "### (i) Attributes: Name,Roll No., Standard, Math marks, English Marks, Science Marks, Social Marks"
   ]
  },
  {
   "cell_type": "code",
   "execution_count": 45,
   "id": "26d21497",
   "metadata": {},
   "outputs": [
    {
     "name": "stdout",
     "output_type": "stream",
     "text": [
      "Student name is ram\n",
      "Student roll number  25\n",
      "standard is 4th\n",
      "Maths marks is  50\n",
      "English marks is  60\n",
      "Science marks is 70\n",
      "Social science marks is  80\n"
     ]
    }
   ],
   "source": [
    "# parent class\n",
    "class parent:\n",
    "    def __init__(self,  name, roll_no, standard, math, english, science, social):\n",
    "        self.name = name\n",
    "        self.roll_no = roll_no\n",
    "        self.standard = standard\n",
    "        self.math = math\n",
    "        self.english = english\n",
    "        self.science = science\n",
    "        self.social = social\n",
    "    \n",
    "    # methods\n",
    "    def getStd(self):\n",
    "        print(\"Student name is \" + self.name)\n",
    "        \n",
    "    def getroll(self):\n",
    "        print(\"Student roll number \", self.roll_no)\n",
    "        \n",
    "    def getstandard(self):\n",
    "        print(\"standard is \" + self.standard)\n",
    "     \n",
    "    def getmath(self):\n",
    "        print(\"Maths marks is \", self.math)\n",
    "        \n",
    "    def getenglish(self):\n",
    "        print(\"English marks is \", self.english)\n",
    "        \n",
    "    def getscience(self):\n",
    "        print(\"Science marks is\", self.science)\n",
    "        \n",
    "    def getsocial(self):\n",
    "        print(\"Social science marks is \", self.social)\n",
    "\n",
    "# child class\n",
    "class child(parent):\n",
    "    def __init__(self,  name, roll_no, standard, math, english, science, social):\n",
    "        super().__init__( name, roll_no, standard, math, english, science, social)\n",
    "\n",
    "# attribute info        \n",
    "x = child(\"ram\",25,\"4th\",50,60,70,80)\n",
    "\n",
    "# calling method\n",
    "x.getStd()\n",
    "x.getroll()\n",
    "x.getstandard()\n",
    "x.getmath()\n",
    "x.getenglish()\n",
    "x.getscience()\n",
    "x.getsocial()"
   ]
  },
  {
   "cell_type": "markdown",
   "id": "7ecc8726",
   "metadata": {},
   "source": [
    "### (ii) Methods: getName, getRollNo, getStd, getGPA"
   ]
  },
  {
   "cell_type": "code",
   "execution_count": 3,
   "id": "68345b52",
   "metadata": {},
   "outputs": [
    {
     "name": "stdout",
     "output_type": "stream",
     "text": [
      "Student name is Abhishek\n",
      "Student enrolled  5\n",
      "Standard is  4th\n",
      "Overall GDP is  66\n"
     ]
    }
   ],
   "source": [
    "# creating class of student\n",
    "class student(object):\n",
    "    \n",
    "    # attributes\n",
    "    def __init__(self, name, roll_no, std, GPA):\n",
    "        self.name = name\n",
    "        self.roll_no = roll_no\n",
    "        self.std = std\n",
    "        self.GPA = GPA\n",
    "    \n",
    "    # making method getStd, getroll, getgpa\n",
    "    def getName(self):\n",
    "        print(\"Student name is \" + self.name)\n",
    "        \n",
    "    def getRoll(self):\n",
    "        print(\"Student enrolled \", self.roll_no)\n",
    "        \n",
    "    def getStd(self):\n",
    "        print(\"Standard is \", self.std)\n",
    "        \n",
    "    def getGpa(self):\n",
    "        print(\"Overall GDP is \", self.GPA)\n",
    "\n",
    "p1 = student(\"Abhishek\",5, \"4th\", 66)     # attribute info\n",
    "\n",
    "# calling method \n",
    "p1.getName()\n",
    "p1.getRoll()\n",
    "p1.getStd()\n",
    "p1.getGpa()"
   ]
  },
  {
   "cell_type": "markdown",
   "id": "cac95888",
   "metadata": {},
   "source": [
    "## (c) Explanation"
   ]
  },
  {
   "cell_type": "markdown",
   "id": "bc3ee3d8",
   "metadata": {},
   "source": [
    "### (i) getName, getRollNo, getStd methods should give the name, roll number and standard of the student. "
   ]
  },
  {
   "cell_type": "code",
   "execution_count": 5,
   "id": "66869de7",
   "metadata": {},
   "outputs": [
    {
     "name": "stdout",
     "output_type": "stream",
     "text": [
      "Student name is Abhishek\n",
      "Student enrolled  5\n",
      "Standard is  4th\n"
     ]
    }
   ],
   "source": [
    "# here i am using getName, getRoll, getStd to make the information of the student and then i have given attribute information.\n",
    "# then i am calling method in the last.\n",
    "\n",
    "\n",
    "\n",
    "# creating class of student\n",
    "class student(object):\n",
    "    \n",
    "    # attributes\n",
    "    def __init__(self, name, roll_no, std):\n",
    "        self.name = name\n",
    "        self.roll_no = roll_no\n",
    "        self.std = std\n",
    "    \n",
    "    # making method getStd, getroll, getgpa\n",
    "    def getName(self):\n",
    "        print(\"Student name is \" + self.name)\n",
    "        \n",
    "    def getRoll(self):\n",
    "        print(\"Student enrolled \", self.roll_no)\n",
    "        \n",
    "    def getStd(self):\n",
    "        print(\"Standard is \", self.std)\n",
    "        \n",
    "\n",
    "p1 = student(\"Abhishek\",5, \"4th\")     # attribute info\n",
    "\n",
    "# calling method \n",
    "p1.getName()\n",
    "p1.getRoll()\n",
    "p1.getStd()\n"
   ]
  },
  {
   "cell_type": "markdown",
   "id": "13d62db8",
   "metadata": {},
   "source": [
    "### (ii) getGPA should give the average marks of math,english, science and social marks scaled to 10-points. Same applies for all the attributes and methods in the Standard superclass."
   ]
  },
  {
   "cell_type": "code",
   "execution_count": 61,
   "id": "7bd850fa",
   "metadata": {},
   "outputs": [
    {
     "name": "stdout",
     "output_type": "stream",
     "text": [
      "Average = 60.0\n",
      "English marks is:   50\n",
      "Maths:   60\n",
      "Computer:   70\n"
     ]
    }
   ],
   "source": [
    "# creating class of student\n",
    "class student(object):\n",
    "    \n",
    "    # attributes\n",
    "    def __init__(self, english, math, computer):\n",
    "        self.english = english\n",
    "        self.math = math\n",
    "        self.computer = computer\n",
    "        \n",
    "    \n",
    "    \n",
    "    # making method getStd, getroll, getgpa\n",
    "    def getsubject(self):\n",
    "        print(\"English marks is:  \", self.english)\n",
    "        print(\"Maths:  \",self.math)\n",
    "        print(\"Computer:  \",self.computer)\n",
    "    \n",
    "    # making another function to find average.\n",
    "    def getavg(lst):\n",
    "        return sum(lst) / len(lst)\n",
    "    \n",
    "    # subject marks defined again.\n",
    "    lst = [50,60,70]\n",
    "    \n",
    "    average = getavg(lst)\n",
    "    print(\"Average =\", round(average, 2))\n",
    "        \n",
    "p1 = student(50,60,70)     # attribute info\n",
    "p1.getsubject()"
   ]
  },
  {
   "cell_type": "code",
   "execution_count": null,
   "id": "07fa7d55",
   "metadata": {},
   "outputs": [],
   "source": []
  },
  {
   "cell_type": "markdown",
   "id": "c2770ee4",
   "metadata": {},
   "source": [
    "# Q3 Answer the following;"
   ]
  },
  {
   "cell_type": "markdown",
   "id": "f3b42095",
   "metadata": {},
   "source": [
    "## (a) Create a function to find the indices of a parameter passed to the function in a user inputted array. Ex: f(0,[1,2,0,0,4]) gives [2,3] as output"
   ]
  },
  {
   "cell_type": "code",
   "execution_count": 10,
   "id": "b153a3e5",
   "metadata": {},
   "outputs": [
    {
     "name": "stdout",
     "output_type": "stream",
     "text": [
      "Enter the length of the array:   5\n",
      "Enter the value for search:  1\n",
      "Enter the value for search:  2\n",
      "Enter the value for search:  0\n",
      "Enter the value for search:  0\n",
      "Enter the value for search:  4\n",
      "array('i', [1, 2, 0, 0, 4])\n",
      "Enter the value for search:   0\n",
      "2\n",
      "3\n"
     ]
    }
   ],
   "source": [
    "# importing array lib\n",
    "from array import *\n",
    "\n",
    "# array of empty set\n",
    "arr = array('i',[])\n",
    "\n",
    "# user define length of array\n",
    "n = int(input(\"Enter the length of the array:   \"))\n",
    "\n",
    "\n",
    "# making loop, when user enter the length of array it will process\n",
    "# and execute it according to user defined length\n",
    "for i in range(n):\n",
    "    x = int(input(\"Enter the value for search:  \"))\n",
    "    arr.append(x)\n",
    "    \n",
    "    \n",
    "print(arr)\n",
    "\n",
    "\n",
    "# entering value for search for indices\n",
    "val = int(input(\"Enter the value for search:   \"))\n",
    "\n",
    "k = 0\n",
    "\n",
    "# making loop to find indexes\n",
    "for e in arr:\n",
    "    if e==val:\n",
    "        print(k)\n",
    "        #break\n",
    "        \n",
    "    k+=1     # using inreament to find last of zero 0\n",
    "    \n",
    "#print(arr.index(val))"
   ]
  },
  {
   "cell_type": "markdown",
   "id": "cc44e82d",
   "metadata": {},
   "source": [
    "## (b) Create a random vector of size 30 and find the mean value"
   ]
  },
  {
   "cell_type": "code",
   "execution_count": 5,
   "id": "d25342fd",
   "metadata": {},
   "outputs": [
    {
     "name": "stdout",
     "output_type": "stream",
     "text": [
      "Original array:  \n",
      "[0.7541962  0.91440479 0.12212231 0.42160644 0.95992138 0.8009675\n",
      " 0.55085353 0.2763845  0.87297642 0.21174005 0.61737896 0.06203401\n",
      " 0.48440068 0.75752404 0.70071206 0.77846058 0.95868592 0.09283118\n",
      " 0.06586124 0.6812923  0.02335647 0.8725591  0.5772086  0.66693854\n",
      " 0.98825289 0.67445747 0.30790963 0.79337876 0.1849946  0.5044026 ]\n",
      "Sorted array:  \n",
      "[0.02335647 0.06203401 0.06586124 0.09283118 0.12212231 0.1849946\n",
      " 0.21174005 0.2763845  0.30790963 0.42160644 0.48440068 0.5044026\n",
      " 0.55085353 0.5772086  0.61737896 0.66693854 0.67445747 0.6812923\n",
      " 0.70071206 0.7541962  0.75752404 0.77846058 0.79337876 0.8009675\n",
      " 0.8725591  0.87297642 0.91440479 0.95868592 0.95992138 0.98825289]\n"
     ]
    }
   ],
   "source": [
    "import numpy as np     # using numpy for fast process and calculation\n",
    "\n",
    "# finding random no. to 30\n",
    "x = np.random.random(30)\n",
    "print(\"Original array:  \")\n",
    "print(x)\n",
    "\n",
    "# sorting array or mean\n",
    "x.sort()\n",
    "print(\"Sorted array:  \")\n",
    "print(x)"
   ]
  },
  {
   "cell_type": "markdown",
   "id": "ceb6f8cc",
   "metadata": {},
   "source": [
    "## (c) Create a 2d array with 1 on its edges and 0 in all other indices"
   ]
  },
  {
   "cell_type": "code",
   "execution_count": 10,
   "id": "d9740eac",
   "metadata": {},
   "outputs": [
    {
     "name": "stdout",
     "output_type": "stream",
     "text": [
      "Original array:  \n",
      "[[1. 1. 1. 1. 1.]\n",
      " [1. 1. 1. 1. 1.]\n",
      " [1. 1. 1. 1. 1.]\n",
      " [1. 1. 1. 1. 1.]\n",
      " [1. 1. 1. 1. 1.]]\n",
      "1 is on borderside and 0 should be inside in it\n",
      "[[1. 1. 1. 1. 1.]\n",
      " [1. 0. 0. 0. 1.]\n",
      " [1. 0. 0. 0. 1.]\n",
      " [1. 0. 0. 0. 1.]\n",
      " [1. 1. 1. 1. 1.]]\n"
     ]
    }
   ],
   "source": [
    "# using numpy for fast process and calculation\n",
    "import numpy as np\n",
    "\n",
    "# here i am finding array of 5*5\n",
    "x = np.ones((5,5))\n",
    "print(\"Original array:  \")\n",
    "print(x)\n",
    "\n",
    "# setting arrangement of indices of 1 and 0.\n",
    "print(\"1 is on borderside and 0 should be inside in it\")\n",
    "x[1:-1,1:-1] = 0\n",
    "print(x)"
   ]
  },
  {
   "cell_type": "markdown",
   "id": "383ccdf6",
   "metadata": {},
   "source": [
    "## (d) Write a NumPy program to create a 8x8 matrix and fill it with a checkerboard pattern."
   ]
  },
  {
   "cell_type": "code",
   "execution_count": 14,
   "id": "bbc81e82",
   "metadata": {},
   "outputs": [
    {
     "name": "stdout",
     "output_type": "stream",
     "text": [
      "Check board pattern\n",
      "[[0 1 0 1 0 1 0 1]\n",
      " [1 0 1 0 1 0 1 0]\n",
      " [0 1 0 1 0 1 0 1]\n",
      " [1 0 1 0 1 0 1 0]\n",
      " [0 1 0 1 0 1 0 1]\n",
      " [1 0 1 0 1 0 1 0]\n",
      " [0 1 0 1 0 1 0 1]\n",
      " [1 0 1 0 1 0 1 0]]\n"
     ]
    }
   ],
   "source": [
    "# using numpy for fast process and calculation\n",
    "import numpy as np\n",
    "\n",
    "# making matrix of ones 3*3\n",
    "x = np.ones((3,3))\n",
    "print(\"Check board pattern\")\n",
    "\n",
    "# making matrix of zeros 8*8\n",
    "x = np.zeros((8,8),dtype = int)\n",
    "\n",
    "# arranging matrix pattern\n",
    "x[1::2,::2] = 1\n",
    "x[::2,1::2] = 1\n",
    "print(x)"
   ]
  },
  {
   "cell_type": "code",
   "execution_count": null,
   "id": "f694c106",
   "metadata": {},
   "outputs": [],
   "source": []
  }
 ],
 "metadata": {
  "kernelspec": {
   "display_name": "Python 3",
   "language": "python",
   "name": "python3"
  },
  "language_info": {
   "codemirror_mode": {
    "name": "ipython",
    "version": 3
   },
   "file_extension": ".py",
   "mimetype": "text/x-python",
   "name": "python",
   "nbconvert_exporter": "python",
   "pygments_lexer": "ipython3",
   "version": "3.8.8"
  }
 },
 "nbformat": 4,
 "nbformat_minor": 5
}
